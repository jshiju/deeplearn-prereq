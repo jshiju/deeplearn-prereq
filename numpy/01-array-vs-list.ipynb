{
 "cells": [
  {
   "cell_type": "code",
   "execution_count": 1,
   "id": "715c0172-ff4a-43e7-bbd7-fc2985faaf7e",
   "metadata": {},
   "outputs": [],
   "source": [
    "import numpy as np"
   ]
  },
  {
   "cell_type": "markdown",
   "id": "5ccbf127-1f81-4640-9081-f18f142ac462",
   "metadata": {},
   "source": [
    "Python List"
   ]
  },
  {
   "cell_type": "code",
   "execution_count": 2,
   "id": "6765944d-99a5-4376-918f-71324a59b81a",
   "metadata": {},
   "outputs": [
    {
     "data": {
      "text/plain": [
       "[1, 2, 3]"
      ]
     },
     "execution_count": 2,
     "metadata": {},
     "output_type": "execute_result"
    }
   ],
   "source": [
    "pl = [1,2,3]\n",
    "pl"
   ]
  },
  {
   "cell_type": "code",
   "execution_count": 3,
   "id": "1010163d-20dc-43a3-b6df-c852259409eb",
   "metadata": {},
   "outputs": [
    {
     "name": "stdout",
     "output_type": "stream",
     "text": [
      "1\n",
      "2\n",
      "3\n"
     ]
    }
   ],
   "source": [
    "for i in pl:\n",
    "    print(i)"
   ]
  },
  {
   "cell_type": "markdown",
   "id": "6725a8e0-f708-4a84-92c1-fbcd5bc68a39",
   "metadata": {},
   "source": [
    "Numpy Array"
   ]
  },
  {
   "cell_type": "code",
   "execution_count": 4,
   "id": "1593229b-ad3e-4664-9e16-1736ea528407",
   "metadata": {},
   "outputs": [
    {
     "data": {
      "text/plain": [
       "array([2, 2, 3])"
      ]
     },
     "execution_count": 4,
     "metadata": {},
     "output_type": "execute_result"
    }
   ],
   "source": [
    "na = np.array([2,2,3])\n",
    "na"
   ]
  },
  {
   "cell_type": "code",
   "execution_count": 5,
   "id": "1a04b4b9-f5a8-4b48-a924-08a298f876ee",
   "metadata": {},
   "outputs": [
    {
     "data": {
      "text/plain": [
       "numpy.ndarray"
      ]
     },
     "execution_count": 5,
     "metadata": {},
     "output_type": "execute_result"
    }
   ],
   "source": [
    "type(na)"
   ]
  },
  {
   "cell_type": "code",
   "execution_count": 6,
   "id": "abc6ebf0-3bc0-4603-b308-b2103374b48d",
   "metadata": {},
   "outputs": [
    {
     "name": "stdout",
     "output_type": "stream",
     "text": [
      "[False  True  True]\n"
     ]
    }
   ],
   "source": [
    "print(pl == na)"
   ]
  },
  {
   "cell_type": "markdown",
   "id": "d3cc6ff2-f6f2-4220-b408-b45a4930b3b4",
   "metadata": {},
   "source": [
    "Adding Python List"
   ]
  },
  {
   "cell_type": "code",
   "execution_count": 7,
   "id": "5489e6fa-8e6c-4f94-95f1-8192c328843a",
   "metadata": {},
   "outputs": [
    {
     "data": {
      "text/plain": [
       "list"
      ]
     },
     "execution_count": 7,
     "metadata": {},
     "output_type": "execute_result"
    }
   ],
   "source": [
    "pl = pl + [4]\n",
    "type(pl)"
   ]
  },
  {
   "cell_type": "code",
   "execution_count": 8,
   "id": "8be9537c-878a-4806-83ef-41aa6223a3ed",
   "metadata": {},
   "outputs": [
    {
     "data": {
      "text/plain": [
       "[1, 2, 3, 4, 5]"
      ]
     },
     "execution_count": 8,
     "metadata": {},
     "output_type": "execute_result"
    }
   ],
   "source": [
    "pl.append(5)\n",
    "pl"
   ]
  },
  {
   "cell_type": "code",
   "execution_count": 9,
   "id": "4529532b-99c0-4f19-8149-38d3f81214a4",
   "metadata": {},
   "outputs": [],
   "source": [
    "# Attempting to append to a numpy array\n",
    "#! na.append(6)\n",
    "\n",
    "# ---------------------------------------------------------------------------\n",
    "# AttributeError                            Traceback (most recent call last)\n",
    "# Cell In[9], line 1\n",
    "# ----> 1 na.append(6)\n",
    "# \n",
    "# AttributeError: 'numpy.ndarray' object has no attribute 'append'"
   ]
  },
  {
   "cell_type": "code",
   "execution_count": 10,
   "id": "a103664d-1853-4d4d-953b-aaf4734228df",
   "metadata": {},
   "outputs": [
    {
     "data": {
      "text/plain": [
       "numpy.ndarray"
      ]
     },
     "execution_count": 10,
     "metadata": {},
     "output_type": "execute_result"
    }
   ],
   "source": [
    "type(na)"
   ]
  },
  {
   "cell_type": "markdown",
   "id": "4f433c1b-68dc-4352-bd96-d8f53da77d5f",
   "metadata": {},
   "source": [
    "Attempting to add numpy array [! array is of fixed size]"
   ]
  },
  {
   "cell_type": "code",
   "execution_count": 11,
   "id": "b9c1c037-1fea-4a9a-9e0a-0e08c44cba42",
   "metadata": {},
   "outputs": [
    {
     "data": {
      "text/plain": [
       "array([12, 12, 13])"
      ]
     },
     "execution_count": 11,
     "metadata": {},
     "output_type": "execute_result"
    }
   ],
   "source": [
    "na + np.array([10])"
   ]
  },
  {
   "cell_type": "code",
   "execution_count": 12,
   "id": "2a425f84-3181-4ab6-9ec3-5c0120abb8ac",
   "metadata": {},
   "outputs": [
    {
     "data": {
      "text/plain": [
       "array([12, 12, 13])"
      ]
     },
     "execution_count": 12,
     "metadata": {},
     "output_type": "execute_result"
    }
   ],
   "source": [
    "na = na + [10]\n",
    "na"
   ]
  },
  {
   "cell_type": "markdown",
   "id": "3dd0dd77-6162-4007-ab66-b4c10f8d3d61",
   "metadata": {},
   "source": [
    "The above ouput is result of \"Broadcasting\""
   ]
  },
  {
   "cell_type": "code",
   "execution_count": 13,
   "id": "7d5f62f4-7244-4aea-9094-1afe858e8256",
   "metadata": {},
   "outputs": [],
   "source": [
    "#! na = na + [10,2]\n",
    "\n",
    "# ---------------------------------------------------------------------------\n",
    "# ValueError                                Traceback (most recent call last)\n",
    "# Cell In[12], line 1\n",
    "# ----> 1 na = na + [10,2]\n",
    "#\n",
    "# ValueError: operands could not be broadcast together with shapes (3,) (2,) "
   ]
  },
  {
   "cell_type": "code",
   "execution_count": 14,
   "id": "ca177cb5-ced7-421a-9383-304d01c135fa",
   "metadata": {},
   "outputs": [
    {
     "data": {
      "text/plain": [
       "array([22, 32, 43])"
      ]
     },
     "execution_count": 14,
     "metadata": {},
     "output_type": "execute_result"
    }
   ],
   "source": [
    "na = na + [10,20,30]\n",
    "na"
   ]
  },
  {
   "cell_type": "code",
   "execution_count": 15,
   "id": "b81d83d2-3fce-4822-a09c-624346c54237",
   "metadata": {},
   "outputs": [
    {
     "data": {
      "text/plain": [
       "[1, 2, 3, 1, 2, 3]"
      ]
     },
     "execution_count": 15,
     "metadata": {},
     "output_type": "execute_result"
    }
   ],
   "source": [
    "ml = [1,2,3]\n",
    "# multiplication of list | Output: Repeat List\n",
    "ml = 2 * ml\n",
    "ml"
   ]
  },
  {
   "cell_type": "code",
   "execution_count": 16,
   "id": "c9327599-9eac-4b4f-8380-7f7421a4da91",
   "metadata": {},
   "outputs": [
    {
     "data": {
      "text/plain": [
       "array([2, 4, 6])"
      ]
     },
     "execution_count": 16,
     "metadata": {},
     "output_type": "execute_result"
    }
   ],
   "source": [
    "na = np.array([1,2,3])\n",
    "# Numpy array multiplcation\n",
    "na = 2 * na\n",
    "na"
   ]
  },
  {
   "cell_type": "code",
   "execution_count": 17,
   "id": "1cca8a0f-e75c-4068-8799-08d460fa89a1",
   "metadata": {},
   "outputs": [
    {
     "data": {
      "text/plain": [
       "[10, 20, 30]"
      ]
     },
     "execution_count": 17,
     "metadata": {},
     "output_type": "execute_result"
    }
   ],
   "source": [
    "# List comprehension\n",
    "pl = [1,2,3]\n",
    "pl = [ e * 10 for e in pl]\n",
    "pl"
   ]
  },
  {
   "cell_type": "code",
   "execution_count": 18,
   "id": "1f8f4133-3452-4075-be03-525ba771d030",
   "metadata": {},
   "outputs": [
    {
     "data": {
      "text/plain": [
       "[1, 8, 27]"
      ]
     },
     "execution_count": 18,
     "metadata": {},
     "output_type": "execute_result"
    }
   ],
   "source": [
    "# PowerOf using list\n",
    "pl = [1,2,3]\n",
    "pl = [ e**3 for e in pl]\n",
    "pl"
   ]
  },
  {
   "cell_type": "code",
   "execution_count": 31,
   "id": "02479f2b-cd41-45db-9669-7580857a02ac",
   "metadata": {},
   "outputs": [
    {
     "data": {
      "text/plain": [
       "array([1, 4, 9])"
      ]
     },
     "execution_count": 31,
     "metadata": {},
     "output_type": "execute_result"
    }
   ],
   "source": [
    "# PowerOf using Munpy\n",
    "na = np.array([1,2,3])\n",
    "na = na**2\n",
    "na"
   ]
  },
  {
   "cell_type": "code",
   "execution_count": 29,
   "id": "b728fe43-3348-4175-afca-f9ebbe73d9c7",
   "metadata": {},
   "outputs": [
    {
     "name": "stdout",
     "output_type": "stream",
     "text": [
      "[1.         1.41421356 1.73205081]\n",
      "[0.         0.69314718 1.09861229]\n"
     ]
    }
   ],
   "source": [
    "# math functions on Mumpy array\n",
    "print(np.sqrt(na))\n",
    "print(np.log(na))"
   ]
  },
  {
   "cell_type": "code",
   "execution_count": null,
   "id": "e175f616-e6c3-4222-aecf-83aad762a7de",
   "metadata": {},
   "outputs": [],
   "source": []
  }
 ],
 "metadata": {
  "kernelspec": {
   "display_name": "Python 3 (ipykernel)",
   "language": "python",
   "name": "python3"
  },
  "language_info": {
   "codemirror_mode": {
    "name": "ipython",
    "version": 3
   },
   "file_extension": ".py",
   "mimetype": "text/x-python",
   "name": "python",
   "nbconvert_exporter": "python",
   "pygments_lexer": "ipython3",
   "version": "3.11.5"
  }
 },
 "nbformat": 4,
 "nbformat_minor": 5
}
