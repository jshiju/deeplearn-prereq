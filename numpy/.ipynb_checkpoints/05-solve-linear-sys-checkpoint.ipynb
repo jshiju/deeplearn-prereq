{
 "cells": [
  {
   "cell_type": "code",
   "execution_count": 5,
   "id": "d21929ae-b20e-4c0a-ad0b-1b6995a9eb52",
   "metadata": {},
   "outputs": [
    {
     "data": {
      "text/plain": [
       "array([1500.,  700.])"
      ]
     },
     "execution_count": 5,
     "metadata": {},
     "output_type": "execute_result"
    }
   ],
   "source": [
    "import numpy as np\n",
    "\n",
    "# Admission fee at a small fair: $1.5 for children $4.0 for adults\n",
    "# 2200 entries, total collection $5050\n",
    "# Find no. of children and adults attended\n",
    "\n",
    "# x1 + x2 = 2200\n",
    "# 1.5x1 + 4x2 = 5050\n",
    "\n",
    "# x = [x1,x2] , A = [[1, 1],[1.5, 4]],  b = [2200, 5050]\n",
    "# Ax = b\n",
    "# A*1/A*x = b*1/A  : Multiply by A inverse\n",
    "# numpy inverse is slow and had precision issues hence use solve()\n",
    "A = np.array([[1, 1],[1.5, 4]])\n",
    "b = np.array([2200, 5050])\n",
    "\n",
    "np.linalg.solve(A, b)"
   ]
  }
 ],
 "metadata": {
  "kernelspec": {
   "display_name": "Python 3 (ipykernel)",
   "language": "python",
   "name": "python3"
  },
  "language_info": {
   "codemirror_mode": {
    "name": "ipython",
    "version": 3
   },
   "file_extension": ".py",
   "mimetype": "text/x-python",
   "name": "python",
   "nbconvert_exporter": "python",
   "pygments_lexer": "ipython3",
   "version": "3.11.5"
  }
 },
 "nbformat": 4,
 "nbformat_minor": 5
}
