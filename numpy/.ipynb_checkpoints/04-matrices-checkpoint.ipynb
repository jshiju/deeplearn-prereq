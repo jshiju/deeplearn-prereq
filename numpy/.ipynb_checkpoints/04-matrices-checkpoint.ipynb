{
 "cells": [
  {
   "cell_type": "code",
   "execution_count": 1,
   "id": "7d4b4b74-2eae-4ff5-b5fa-6f3b2e6935e7",
   "metadata": {},
   "outputs": [
    {
     "name": "stdout",
     "output_type": "stream",
     "text": [
      "[[1, 2], [3, 4]]\n"
     ]
    }
   ],
   "source": [
    "import numpy as np\n",
    "\n",
    "L = [[1,2],[3,4]]\n",
    "print(L)"
   ]
  },
  {
   "cell_type": "code",
   "execution_count": 2,
   "id": "d3f7442b-3e93-4d33-9def-5ed15fc4874c",
   "metadata": {},
   "outputs": [
    {
     "name": "stdout",
     "output_type": "stream",
     "text": [
      "2\n"
     ]
    }
   ],
   "source": [
    "print(L[0][1])"
   ]
  },
  {
   "cell_type": "code",
   "execution_count": 6,
   "id": "52911818-bf43-482b-93f7-f301eb71a797",
   "metadata": {},
   "outputs": [
    {
     "name": "stdout",
     "output_type": "stream",
     "text": [
      "[[1 2]\n",
      " [3 4]]\n",
      "2\n"
     ]
    }
   ],
   "source": [
    "A = np.array([[1,2],[3,4]])\n",
    "print(A)\n",
    "\n",
    "print(A[0,1])"
   ]
  },
  {
   "cell_type": "code",
   "execution_count": 16,
   "id": "8829dadf-58c7-4bc1-8cd2-605508a580f9",
   "metadata": {},
   "outputs": [
    {
     "name": "stdout",
     "output_type": "stream",
     "text": [
      "[1 2]\n",
      "[1 3]\n",
      "[[1 2]\n",
      " [3 4]]\n",
      "[[1 2]]\n",
      "[2 4]\n"
     ]
    }
   ],
   "source": [
    "# retrieving rows or columns\n",
    "print(A[0,:])\n",
    "print(A[:,0])\n",
    "\n",
    "print(A[:,:])\n",
    "print(A[:1])\n",
    "print(A[:,1])"
   ]
  },
  {
   "cell_type": "code",
   "execution_count": 20,
   "id": "be84e036-7848-49ad-b2f2-c70ebbbd7b83",
   "metadata": {},
   "outputs": [
    {
     "name": "stdout",
     "output_type": "stream",
     "text": [
      "[[1 3]\n",
      " [2 4]]\n",
      "[[1 3]\n",
      " [2 4]]\n"
     ]
    }
   ],
   "source": [
    "# transpose\n",
    "print(A.transpose())\n",
    "\n",
    "# another way\n",
    "print(A.T)"
   ]
  },
  {
   "cell_type": "code",
   "execution_count": 22,
   "id": "f30e35f1-393a-499a-a2b6-0b29234bf268",
   "metadata": {},
   "outputs": [
    {
     "data": {
      "text/plain": [
       "array([[ 2.71828183,  7.3890561 ],\n",
       "       [20.08553692, 54.59815003]])"
      ]
     },
     "execution_count": 22,
     "metadata": {},
     "output_type": "execute_result"
    }
   ],
   "source": [
    "# using functions directly\n",
    "np.exp(A)"
   ]
  },
  {
   "cell_type": "code",
   "execution_count": 23,
   "id": "561cf9b5-b8e3-418a-b1b1-e6bf7b5454fc",
   "metadata": {},
   "outputs": [
    {
     "data": {
      "text/plain": [
       "array([[ 2.71828183,  7.3890561 ],\n",
       "       [20.08553692, 54.59815003]])"
      ]
     },
     "execution_count": 23,
     "metadata": {},
     "output_type": "execute_result"
    }
   ],
   "source": [
    "np.exp(L)"
   ]
  },
  {
   "cell_type": "code",
   "execution_count": 26,
   "id": "37c2ebb4-8bdb-45b1-9df6-9596eba2560a",
   "metadata": {},
   "outputs": [
    {
     "name": "stdout",
     "output_type": "stream",
     "text": [
      "-2.0000000000000004\n",
      "[[-2.   1. ]\n",
      " [ 1.5 -0.5]]\n",
      "[[1.00000000e+00 0.00000000e+00]\n",
      " [1.11022302e-16 1.00000000e+00]]\n"
     ]
    }
   ],
   "source": [
    "# Determinent\n",
    "\n",
    "print(np.linalg.det(A))\n",
    "\n",
    "# inverse of a matrix\n",
    "print(np.linalg.inv(A))\n",
    "\n",
    "# Identity\n",
    "print(np.linalg.inv(A).dot(A))"
   ]
  },
  {
   "cell_type": "code",
   "execution_count": 35,
   "id": "f17a5336-e5de-4b57-beca-8bc633fa1bf3",
   "metadata": {},
   "outputs": [
    {
     "name": "stdout",
     "output_type": "stream",
     "text": [
      "5\n",
      "[1 4]\n",
      "[[1 0]\n",
      " [0 3]]\n"
     ]
    },
    {
     "data": {
      "text/plain": [
       "EigResult(eigenvalues=array([-0.37228132,  5.37228132]), eigenvectors=array([[-0.82456484, -0.41597356],\n",
       "       [ 0.56576746, -0.90937671]]))"
      ]
     },
     "execution_count": 35,
     "metadata": {},
     "output_type": "execute_result"
    }
   ],
   "source": [
    "A = np.array([[1,2],[3,4]])\n",
    "# Matrix Trace\n",
    "print(np.trace(A))\n",
    "\n",
    "# Diagonal\n",
    "print(np.diag(A))\n",
    "\n",
    "# Diagonal for a vector is a matrix !! \n",
    "# Overloaded method 'diag'\n",
    "print(np.diag([1,3]))\n",
    "\n",
    "\n",
    "# Eigen Values & Eigen vectors\n",
    "np.linalg.eig(A)"
   ]
  },
  {
   "cell_type": "code",
   "execution_count": 37,
   "id": "9f497262-2962-4cea-9f6e-a4a093e35c23",
   "metadata": {},
   "outputs": [],
   "source": [
    "\n",
    "Lam, V = np.linalg.eig(A)"
   ]
  },
  {
   "cell_type": "code",
   "execution_count": 38,
   "id": "01f05b28-d0c8-42cd-92ed-5c1e31388ea2",
   "metadata": {},
   "outputs": [
    {
     "data": {
      "text/plain": [
       "array([ True, False])"
      ]
     },
     "execution_count": 38,
     "metadata": {},
     "output_type": "execute_result"
    }
   ],
   "source": [
    "V[:,0] * Lam[0] == A @ V[:,0]"
   ]
  },
  {
   "cell_type": "code",
   "execution_count": 39,
   "id": "9f050cf0-3801-4bf5-9f41-16f2ef7a3e3e",
   "metadata": {},
   "outputs": [
    {
     "data": {
      "text/plain": [
       "(array([ 0.30697009, -0.21062466]), array([ 0.30697009, -0.21062466]))"
      ]
     },
     "execution_count": 39,
     "metadata": {},
     "output_type": "execute_result"
    }
   ],
   "source": [
    "V[:,0] * Lam[0],A @ V[:,0]"
   ]
  },
  {
   "cell_type": "code",
   "execution_count": 40,
   "id": "69f04a4b-09a2-4f32-95cd-efe5ec093002",
   "metadata": {},
   "outputs": [
    {
     "data": {
      "text/plain": [
       "True"
      ]
     },
     "execution_count": 40,
     "metadata": {},
     "output_type": "execute_result"
    }
   ],
   "source": [
    "  np.allclose( V[:,0] * Lam[0], A @ V[:,0])"
   ]
  },
  {
   "cell_type": "code",
   "execution_count": 41,
   "id": "05b2bb27-c147-4b66-b1a8-2be8d5677d01",
   "metadata": {},
   "outputs": [
    {
     "data": {
      "text/plain": [
       "True"
      ]
     },
     "execution_count": 41,
     "metadata": {},
     "output_type": "execute_result"
    }
   ],
   "source": [
    "np.allclose(V @ np.diag(Lam), A @ V)"
   ]
  }
 ],
 "metadata": {
  "kernelspec": {
   "display_name": "Python 3 (ipykernel)",
   "language": "python",
   "name": "python3"
  },
  "language_info": {
   "codemirror_mode": {
    "name": "ipython",
    "version": 3
   },
   "file_extension": ".py",
   "mimetype": "text/x-python",
   "name": "python",
   "nbconvert_exporter": "python",
   "pygments_lexer": "ipython3",
   "version": "3.11.5"
  }
 },
 "nbformat": 4,
 "nbformat_minor": 5
}
