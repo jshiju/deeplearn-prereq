{
 "cells": [
  {
   "cell_type": "markdown",
   "id": "70d0c4a3-1432-43f0-8154-84cdbb6dc78b",
   "metadata": {},
   "source": [
    "pip3 --version\n",
    "\n",
    "pip install jupyterlab\n",
    "\n",
    "pip install numpy\n",
    "\n",
    "pip install matplotlib\n",
    "\n",
    "pip install Pillow --upgrade\n",
    "\n",
    "pip install pandas\n",
    "\n",
    "----\n",
    "\n",
    "pip install scipy\n",
    "\n",
    "# Update PIP\n",
    "python3.11 -m pip install --upgrade pip\n",
    "\n",
    "\n",
    "# Jupyter Help\n",
    "Tab -> autocompletion\n",
    "Cmd+ Enter -> Run\n",
    "Shift + Tab -> Function Help"
   ]
  }
 ],
 "metadata": {
  "kernelspec": {
   "display_name": "Python 3 (ipykernel)",
   "language": "python",
   "name": "python3"
  },
  "language_info": {
   "codemirror_mode": {
    "name": "ipython",
    "version": 3
   },
   "file_extension": ".py",
   "mimetype": "text/x-python",
   "name": "python",
   "nbconvert_exporter": "python",
   "pygments_lexer": "ipython3",
   "version": "3.11.5"
  }
 },
 "nbformat": 4,
 "nbformat_minor": 5
}
