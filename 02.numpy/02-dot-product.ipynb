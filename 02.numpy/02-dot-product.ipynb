{
 "cells": [
  {
   "cell_type": "code",
   "execution_count": 2,
   "id": "16141860-ac0a-4468-bcbb-0ebf58d34b36",
   "metadata": {},
   "outputs": [
    {
     "data": {
      "text/plain": [
       "26"
      ]
     },
     "execution_count": 2,
     "metadata": {},
     "output_type": "execute_result"
    }
   ],
   "source": [
    "import numpy as np\n",
    "# two vectors\n",
    "a = np.array([1,2,3])\n",
    "b = np.array([3,4,5,6])\n",
    "\n",
    "# zip() function returns a zip object, which is an iterator of tuples\n",
    "dot = 0\n",
    "for i, j in zip(a,b):\n",
    "    dot += i * j\n",
    "dot"
   ]
  },
  {
   "cell_type": "code",
   "execution_count": 9,
   "id": "9e03d90c-3b1e-4957-bb3b-5d6f2aa3f05e",
   "metadata": {},
   "outputs": [
    {
     "data": {
      "text/plain": [
       "26"
      ]
     },
     "execution_count": 9,
     "metadata": {},
     "output_type": "execute_result"
    }
   ],
   "source": [
    "# iterate using index\n",
    "dot = 0\n",
    "for i in range(len(a)): # len(b) cause index out of bounds\n",
    "    dot += a[i] * b[i]\n",
    "dot"
   ]
  },
  {
   "cell_type": "code",
   "execution_count": 12,
   "id": "fb614758-1d89-4747-ace9-78eaa40e93be",
   "metadata": {},
   "outputs": [
    {
     "name": "stdout",
     "output_type": "stream",
     "text": [
      "[ 3  8 15]\n",
      "26\n"
     ]
    }
   ],
   "source": [
    "#Using numpy '*'\n",
    "a = np.array([1,2,3])\n",
    "b = np.array([3,4,5])\n",
    "print(a*b)\n",
    "print(np.sum(a*b))\n"
   ]
  },
  {
   "cell_type": "code",
   "execution_count": 13,
   "id": "e1027260-ebf2-4fd2-b247-4c29562e3df3",
   "metadata": {},
   "outputs": [
    {
     "data": {
      "text/plain": [
       "26"
      ]
     },
     "execution_count": 13,
     "metadata": {},
     "output_type": "execute_result"
    }
   ],
   "source": [
    "#invoke function on array\n",
    "(a*b).sum()"
   ]
  },
  {
   "cell_type": "code",
   "execution_count": 15,
   "id": "a764e507-9e83-4ed7-82fc-37b6413e82e9",
   "metadata": {},
   "outputs": [
    {
     "data": {
      "text/plain": [
       "26"
      ]
     },
     "execution_count": 15,
     "metadata": {},
     "output_type": "execute_result"
    }
   ],
   "source": [
    "# Numpy function for dot product\n",
    "np.dot(a,b)\n",
    "\n",
    "a.dot(b)"
   ]
  },
  {
   "cell_type": "code",
   "execution_count": 16,
   "id": "cf060948-f7fe-4f76-b79a-dadb479e4c8b",
   "metadata": {},
   "outputs": [
    {
     "data": {
      "text/plain": [
       "26"
      ]
     },
     "execution_count": 16,
     "metadata": {},
     "output_type": "execute_result"
    }
   ],
   "source": [
    "# operator for dot function - '@'\n",
    "\n",
    "(a@b)\n"
   ]
  },
  {
   "cell_type": "code",
   "execution_count": null,
   "id": "1edeb19e-ae81-4b7b-8abc-9a98c68ebbbd",
   "metadata": {},
   "outputs": [],
   "source": [
    "# ------------------------------------------------"
   ]
  },
  {
   "cell_type": "code",
   "execution_count": 21,
   "id": "dd24eba8-8ddf-45ed-be86-cb2b189c2616",
   "metadata": {},
   "outputs": [
    {
     "name": "stdout",
     "output_type": "stream",
     "text": [
      "2.23606797749979\n",
      "2.23606797749979\n",
      "0.9838699100999074\n",
      "0.17985349979247847\n"
     ]
    }
   ],
   "source": [
    "a = np.array([1,2])\n",
    "b = np.array([3,4])\n",
    "\n",
    "# magnitude of a vector | sqrt of dot product\n",
    "amag = np.sqrt((a*a).sum())\n",
    "print(amag)\n",
    "\n",
    "print(np.linalg.norm(a))\n",
    "cosangle = a.dot(b)/ (np.linalg.norm(a) * np.linalg.norm(b))\n",
    "print(cosangle)\n",
    "angle = np.arccos(cosangle)\n",
    "print(angle)"
   ]
  }
 ],
 "metadata": {
  "kernelspec": {
   "display_name": "Python 3 (ipykernel)",
   "language": "python",
   "name": "python3"
  },
  "language_info": {
   "codemirror_mode": {
    "name": "ipython",
    "version": 3
   },
   "file_extension": ".py",
   "mimetype": "text/x-python",
   "name": "python",
   "nbconvert_exporter": "python",
   "pygments_lexer": "ipython3",
   "version": "3.11.5"
  }
 },
 "nbformat": 4,
 "nbformat_minor": 5
}
