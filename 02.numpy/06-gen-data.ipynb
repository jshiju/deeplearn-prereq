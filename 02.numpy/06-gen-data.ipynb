{
 "cells": [
  {
   "cell_type": "code",
   "execution_count": 1,
   "id": "79069eca-914b-41a3-982d-9c07a5badca1",
   "metadata": {},
   "outputs": [
    {
     "data": {
      "text/plain": [
       "array([[0., 0., 0.],\n",
       "       [0., 0., 0.]])"
      ]
     },
     "execution_count": 1,
     "metadata": {},
     "output_type": "execute_result"
    }
   ],
   "source": [
    "import numpy as np\n",
    "\n",
    "# genrating Data\n",
    "\n",
    "np.zeros((2,3))"
   ]
  },
  {
   "cell_type": "code",
   "execution_count": 2,
   "id": "f9b427fd-f34b-44c1-a222-43bb1d808c95",
   "metadata": {},
   "outputs": [
    {
     "data": {
      "text/plain": [
       "array([[1., 1., 1.],\n",
       "       [1., 1., 1.]])"
      ]
     },
     "execution_count": 2,
     "metadata": {},
     "output_type": "execute_result"
    }
   ],
   "source": [
    "np.ones((2,3))"
   ]
  },
  {
   "cell_type": "code",
   "execution_count": 3,
   "id": "7873c3d6-f7bc-4e6c-ac76-87dcf70ed597",
   "metadata": {},
   "outputs": [
    {
     "data": {
      "text/plain": [
       "array([[10., 10., 10.],\n",
       "       [10., 10., 10.]])"
      ]
     },
     "execution_count": 3,
     "metadata": {},
     "output_type": "execute_result"
    }
   ],
   "source": [
    "10 * np.ones((2,3))"
   ]
  },
  {
   "cell_type": "code",
   "execution_count": 4,
   "id": "3a8935ab-577a-48ec-8dd0-39845a6b0e10",
   "metadata": {},
   "outputs": [
    {
     "data": {
      "text/plain": [
       "array([[1., 0., 0.],\n",
       "       [0., 1., 0.],\n",
       "       [0., 0., 1.]])"
      ]
     },
     "execution_count": 4,
     "metadata": {},
     "output_type": "execute_result"
    }
   ],
   "source": [
    "# avoid to conflict with var i (identity)\n",
    "np.eye(3)"
   ]
  },
  {
   "cell_type": "code",
   "execution_count": 6,
   "id": "5d8cb3cd-0eda-41c1-bf94-ab22848b9f9e",
   "metadata": {},
   "outputs": [
    {
     "data": {
      "text/plain": [
       "0.11287701737853484"
      ]
     },
     "execution_count": 6,
     "metadata": {},
     "output_type": "execute_result"
    }
   ],
   "source": [
    "# random data\n",
    "np.random.random()"
   ]
  },
  {
   "cell_type": "code",
   "execution_count": 7,
   "id": "91bd336b-fff8-4e09-909b-74f273b6369f",
   "metadata": {},
   "outputs": [
    {
     "data": {
      "text/plain": [
       "array([[0.08430836, 0.28632405, 0.64188703],\n",
       "       [0.31818475, 0.32285374, 0.61884261]])"
      ]
     },
     "execution_count": 7,
     "metadata": {},
     "output_type": "execute_result"
    }
   ],
   "source": [
    "np.random.random((2,3))"
   ]
  },
  {
   "cell_type": "code",
   "execution_count": 10,
   "id": "4608309c-09c9-49a9-8a14-b1402f367237",
   "metadata": {},
   "outputs": [
    {
     "data": {
      "text/plain": [
       "array([[ 0.08215089,  0.44088588, -0.13626894],\n",
       "       [ 0.09083   ,  0.76134716,  0.00932192]])"
      ]
     },
     "execution_count": 10,
     "metadata": {},
     "output_type": "execute_result"
    }
   ],
   "source": [
    "# from different distribution [uniform] or [normal]\n",
    "\n",
    "np.random.randn(2,3)"
   ]
  },
  {
   "cell_type": "code",
   "execution_count": 12,
   "id": "95aae7e0-c8bc-46f9-968c-01247f0da1a2",
   "metadata": {},
   "outputs": [
    {
     "data": {
      "text/plain": [
       "-0.005057031256083502"
      ]
     },
     "execution_count": 12,
     "metadata": {},
     "output_type": "execute_result"
    }
   ],
   "source": [
    "R = np.random.randn(10000)\n",
    "R.mean()"
   ]
  },
  {
   "cell_type": "code",
   "execution_count": 18,
   "id": "09dfe4a8-d199-4b65-ac63-0504e12f5e14",
   "metadata": {},
   "outputs": [
    {
     "data": {
      "text/plain": [
       "0.01007473534967797"
      ]
     },
     "execution_count": 18,
     "metadata": {},
     "output_type": "execute_result"
    }
   ],
   "source": [
    "np.mean(R)"
   ]
  },
  {
   "cell_type": "code",
   "execution_count": 14,
   "id": "df67e6bd-fcdf-44bc-b79c-fddfc69adfb9",
   "metadata": {},
   "outputs": [
    {
     "data": {
      "text/plain": [
       "0.9977915039655391"
      ]
     },
     "execution_count": 14,
     "metadata": {},
     "output_type": "execute_result"
    }
   ],
   "source": [
    "R.var()"
   ]
  },
  {
   "cell_type": "code",
   "execution_count": 15,
   "id": "9865faa9-75a6-480e-9210-eb74c337038b",
   "metadata": {},
   "outputs": [
    {
     "data": {
      "text/plain": [
       "0.9988951416267571"
      ]
     },
     "execution_count": 15,
     "metadata": {},
     "output_type": "execute_result"
    }
   ],
   "source": [
    "R.std()"
   ]
  },
  {
   "cell_type": "code",
   "execution_count": 19,
   "id": "61f23cf3-ccb8-4ea4-98bd-7425f23b5ebe",
   "metadata": {},
   "outputs": [
    {
     "data": {
      "text/plain": [
       "array([ 0.0083977 ,  0.00148003, -0.00484994])"
      ]
     },
     "execution_count": 19,
     "metadata": {},
     "output_type": "execute_result"
    }
   ],
   "source": [
    "R = np.random.randn(10000,3)\n",
    "R.mean(axis=0)"
   ]
  },
  {
   "cell_type": "code",
   "execution_count": 20,
   "id": "ce02aa60-2abb-4bee-aecf-fe6d4925842e",
   "metadata": {},
   "outputs": [
    {
     "data": {
      "text/plain": [
       "array([-0.18970428,  0.36579499, -0.34179464, ...,  0.7799533 ,\n",
       "       -0.05371051, -0.66306678])"
      ]
     },
     "execution_count": 20,
     "metadata": {},
     "output_type": "execute_result"
    }
   ],
   "source": [
    "R.mean(axis=1)"
   ]
  },
  {
   "cell_type": "code",
   "execution_count": 22,
   "id": "8e4f5791-9287-4adf-a845-637cceb4e7bd",
   "metadata": {},
   "outputs": [
    {
     "data": {
      "text/plain": [
       "(10000,)"
      ]
     },
     "execution_count": 22,
     "metadata": {},
     "output_type": "execute_result"
    }
   ],
   "source": [
    "R.mean(axis=1).shape"
   ]
  },
  {
   "cell_type": "code",
   "execution_count": 23,
   "id": "e5463ac1-df99-4c05-89f4-0179298e78b6",
   "metadata": {},
   "outputs": [
    {
     "data": {
      "text/plain": [
       "array([[ 0.29754966,  0.13298654,  0.35773523, ...,  0.05078947,\n",
       "         0.43093365, -0.32528437],\n",
       "       [ 0.13298654,  0.05991172,  0.17120284, ...,  0.00602925,\n",
       "         0.1619349 , -0.13336968],\n",
       "       [ 0.35773523,  0.17120284,  0.69981483, ..., -0.33624922,\n",
       "        -0.21277276, -0.10478184],\n",
       "       ...,\n",
       "       [ 0.05078947,  0.00602925, -0.33624922, ...,  0.59393047,\n",
       "         1.15016902, -0.47725544],\n",
       "       [ 0.43093365,  0.1619349 , -0.21277276, ...,  1.15016902,\n",
       "         2.60458232, -1.24689429],\n",
       "       [-0.32528437, -0.13336968, -0.10478184, ..., -0.47725544,\n",
       "        -1.24689429,  0.65949899]])"
      ]
     },
     "execution_count": 23,
     "metadata": {},
     "output_type": "execute_result"
    }
   ],
   "source": [
    "np.cov(R)"
   ]
  },
  {
   "cell_type": "code",
   "execution_count": 24,
   "id": "bb28697e-32c3-4998-94d0-08692547daa8",
   "metadata": {},
   "outputs": [
    {
     "data": {
      "text/plain": [
       "(10000, 10000)"
      ]
     },
     "execution_count": 24,
     "metadata": {},
     "output_type": "execute_result"
    }
   ],
   "source": [
    "np.cov(R).shape"
   ]
  },
  {
   "cell_type": "code",
   "execution_count": 25,
   "id": "59b95e40-b30c-4da2-8e0c-de6929b621a0",
   "metadata": {},
   "outputs": [
    {
     "data": {
      "text/plain": [
       "array([[ 1.00237240e+00, -2.68808361e-04, -1.29679496e-02],\n",
       "       [-2.68808361e-04,  1.01246578e+00, -8.90755424e-03],\n",
       "       [-1.29679496e-02, -8.90755424e-03,  1.01355198e+00]])"
      ]
     },
     "execution_count": 25,
     "metadata": {},
     "output_type": "execute_result"
    }
   ],
   "source": [
    "np.cov(R.T)"
   ]
  },
  {
   "cell_type": "code",
   "execution_count": 26,
   "id": "98818144-b283-4df7-b95a-a661e67b6907",
   "metadata": {},
   "outputs": [
    {
     "data": {
      "text/plain": [
       "array([[ 1.00237240e+00, -2.68808361e-04, -1.29679496e-02],\n",
       "       [-2.68808361e-04,  1.01246578e+00, -8.90755424e-03],\n",
       "       [-1.29679496e-02, -8.90755424e-03,  1.01355198e+00]])"
      ]
     },
     "execution_count": 26,
     "metadata": {},
     "output_type": "execute_result"
    }
   ],
   "source": [
    "np.cov(R, rowvar=False)"
   ]
  },
  {
   "cell_type": "code",
   "execution_count": 27,
   "id": "904aabd7-3e38-42c9-9c82-1c2ee0f6802b",
   "metadata": {},
   "outputs": [
    {
     "data": {
      "text/plain": [
       "array([[7, 4, 2],\n",
       "       [8, 8, 4],\n",
       "       [4, 1, 1]])"
      ]
     },
     "execution_count": 27,
     "metadata": {},
     "output_type": "execute_result"
    }
   ],
   "source": [
    "np.random.randint(0,10,size=(3,3))"
   ]
  },
  {
   "cell_type": "code",
   "execution_count": 29,
   "id": "f0e3b35c-1f33-4054-bbe4-54e40265c0c7",
   "metadata": {},
   "outputs": [
    {
     "data": {
      "text/plain": [
       "array([[4, 2, 0],\n",
       "       [3, 2, 2],\n",
       "       [7, 7, 7]])"
      ]
     },
     "execution_count": 29,
     "metadata": {},
     "output_type": "execute_result"
    }
   ],
   "source": [
    "np.random.choice(10, size=(3,3))"
   ]
  }
 ],
 "metadata": {
  "kernelspec": {
   "display_name": "Python 3 (ipykernel)",
   "language": "python",
   "name": "python3"
  },
  "language_info": {
   "codemirror_mode": {
    "name": "ipython",
    "version": 3
   },
   "file_extension": ".py",
   "mimetype": "text/x-python",
   "name": "python",
   "nbconvert_exporter": "python",
   "pygments_lexer": "ipython3",
   "version": "3.11.5"
  }
 },
 "nbformat": 4,
 "nbformat_minor": 5
}
