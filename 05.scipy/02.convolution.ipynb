{
 "cells": [
  {
   "cell_type": "code",
   "execution_count": null,
   "id": "75ba6716-c5f8-4bb8-952f-e1a88d13a84c",
   "metadata": {},
   "outputs": [],
   "source": [
    "# Convolution is a mathematical operation on two functions (f and g) that produces \n",
    "# a third function (f*g) that expresses how the shape of one is modified by the other"
   ]
  }
 ],
 "metadata": {
  "kernelspec": {
   "display_name": "Python 3 (ipykernel)",
   "language": "python",
   "name": "python3"
  },
  "language_info": {
   "codemirror_mode": {
    "name": "ipython",
    "version": 3
   },
   "file_extension": ".py",
   "mimetype": "text/x-python",
   "name": "python",
   "nbconvert_exporter": "python",
   "pygments_lexer": "ipython3",
   "version": "3.11.5"
  }
 },
 "nbformat": 4,
 "nbformat_minor": 5
}
